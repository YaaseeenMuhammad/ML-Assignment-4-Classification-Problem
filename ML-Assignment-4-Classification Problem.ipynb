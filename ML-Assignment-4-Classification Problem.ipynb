{
 "cells": [
  {
   "cell_type": "markdown",
   "id": "61b47976-a7a6-4bac-bf7a-ad1dadb8fcea",
   "metadata": {},
   "source": [
    "# **ML-Assignment-4-Classification Problem**"
   ]
  },
  {
   "cell_type": "markdown",
   "id": "debf7d6f-1ae0-467b-b8d2-5f833a6fc882",
   "metadata": {},
   "source": [
    "## The objective of this assessment is to evaluate your understanding and ability to apply supervised learning techniques to a real-world dataset."
   ]
  },
  {
   "cell_type": "markdown",
   "id": "683de799-1a70-47b2-a808-f587880fbf20",
   "metadata": {},
   "source": [
    "### Using the breast cancer dataset available in the sklearn library."
   ]
  },
  {
   "cell_type": "markdown",
   "id": "f8dc0fc4-cfc5-4f5c-832e-5cdeb8c150b3",
   "metadata": {},
   "source": [
    "#### Loading and Preprocessing the breast cancer dataset from sklearn to handle any missing values and perform necessary feature scaling."
   ]
  },
  {
   "cell_type": "code",
   "execution_count": 29,
   "id": "8f2bf32c-859b-48f5-aa31-24535f63f441",
   "metadata": {},
   "outputs": [
    {
     "name": "stdout",
     "output_type": "stream",
     "text": [
      "   mean radius  mean texture  mean perimeter  mean area  mean smoothness  \\\n",
      "0        17.99         10.38          122.80     1001.0          0.11840   \n",
      "1        20.57         17.77          132.90     1326.0          0.08474   \n",
      "2        19.69         21.25          130.00     1203.0          0.10960   \n",
      "3        11.42         20.38           77.58      386.1          0.14250   \n",
      "4        20.29         14.34          135.10     1297.0          0.10030   \n",
      "\n",
      "   mean compactness  mean concavity  mean concave points  mean symmetry  \\\n",
      "0           0.27760          0.3001              0.14710         0.2419   \n",
      "1           0.07864          0.0869              0.07017         0.1812   \n",
      "2           0.15990          0.1974              0.12790         0.2069   \n",
      "3           0.28390          0.2414              0.10520         0.2597   \n",
      "4           0.13280          0.1980              0.10430         0.1809   \n",
      "\n",
      "   mean fractal dimension  ...  worst texture  worst perimeter  worst area  \\\n",
      "0                 0.07871  ...          17.33           184.60      2019.0   \n",
      "1                 0.05667  ...          23.41           158.80      1956.0   \n",
      "2                 0.05999  ...          25.53           152.50      1709.0   \n",
      "3                 0.09744  ...          26.50            98.87       567.7   \n",
      "4                 0.05883  ...          16.67           152.20      1575.0   \n",
      "\n",
      "   worst smoothness  worst compactness  worst concavity  worst concave points  \\\n",
      "0            0.1622             0.6656           0.7119                0.2654   \n",
      "1            0.1238             0.1866           0.2416                0.1860   \n",
      "2            0.1444             0.4245           0.4504                0.2430   \n",
      "3            0.2098             0.8663           0.6869                0.2575   \n",
      "4            0.1374             0.2050           0.4000                0.1625   \n",
      "\n",
      "   worst symmetry  worst fractal dimension  target  \n",
      "0          0.4601                  0.11890       0  \n",
      "1          0.2750                  0.08902       0  \n",
      "2          0.3613                  0.08758       0  \n",
      "3          0.6638                  0.17300       0  \n",
      "4          0.2364                  0.07678       0  \n",
      "\n",
      "[5 rows x 31 columns]\n"
     ]
    }
   ],
   "source": [
    "from sklearn.datasets import load_breast_cancer\n",
    "import pandas as pd\n",
    "# Loading the dataset\n",
    "data = load_breast_cancer()\n",
    "# Creating a DataFrame with the features\n",
    "df = pd.DataFrame(data.data, columns=data.feature_names)\n",
    "# Adding the target column\n",
    "df['target'] = data.target\n",
    "# Displaying the rows\n",
    "print(df.head())"
   ]
  },
  {
   "cell_type": "code",
   "execution_count": 30,
   "id": "e43fefb7-3be9-46a8-8446-17de1295dd75",
   "metadata": {},
   "outputs": [
    {
     "data": {
      "text/plain": [
       "mean radius                0\n",
       "mean texture               0\n",
       "mean perimeter             0\n",
       "mean area                  0\n",
       "mean smoothness            0\n",
       "mean compactness           0\n",
       "mean concavity             0\n",
       "mean concave points        0\n",
       "mean symmetry              0\n",
       "mean fractal dimension     0\n",
       "radius error               0\n",
       "texture error              0\n",
       "perimeter error            0\n",
       "area error                 0\n",
       "smoothness error           0\n",
       "compactness error          0\n",
       "concavity error            0\n",
       "concave points error       0\n",
       "symmetry error             0\n",
       "fractal dimension error    0\n",
       "worst radius               0\n",
       "worst texture              0\n",
       "worst perimeter            0\n",
       "worst area                 0\n",
       "worst smoothness           0\n",
       "worst compactness          0\n",
       "worst concavity            0\n",
       "worst concave points       0\n",
       "worst symmetry             0\n",
       "worst fractal dimension    0\n",
       "target                     0\n",
       "dtype: int64"
      ]
     },
     "execution_count": 30,
     "metadata": {},
     "output_type": "execute_result"
    }
   ],
   "source": [
    "# Checking the null values for each coloumn\n",
    "df.isnull().sum()"
   ]
  },
  {
   "cell_type": "markdown",
   "id": "9065f1ac-8298-4e86-be94-3f754b88d8bd",
   "metadata": {},
   "source": [
    "### **Correlation of each feature with the target**"
   ]
  },
  {
   "cell_type": "code",
   "execution_count": 31,
   "id": "4d924085-52a8-48bc-9ee8-fce8736725d3",
   "metadata": {},
   "outputs": [
    {
     "name": "stdout",
     "output_type": "stream",
     "text": [
      "target                     1.000000\n",
      "worst concave points       0.793566\n",
      "worst perimeter            0.782914\n",
      "mean concave points        0.776614\n",
      "worst radius               0.776454\n",
      "mean perimeter             0.742636\n",
      "worst area                 0.733825\n",
      "mean radius                0.730029\n",
      "mean area                  0.708984\n",
      "mean concavity             0.696360\n",
      "worst concavity            0.659610\n",
      "mean compactness           0.596534\n",
      "worst compactness          0.590998\n",
      "radius error               0.567134\n",
      "perimeter error            0.556141\n",
      "area error                 0.548236\n",
      "worst texture              0.456903\n",
      "worst smoothness           0.421465\n",
      "worst symmetry             0.416294\n",
      "mean texture               0.415185\n",
      "concave points error       0.408042\n",
      "mean smoothness            0.358560\n",
      "mean symmetry              0.330499\n",
      "worst fractal dimension    0.323872\n",
      "compactness error          0.292999\n",
      "concavity error            0.253730\n",
      "fractal dimension error    0.077972\n",
      "smoothness error           0.067016\n",
      "mean fractal dimension     0.012838\n",
      "texture error              0.008303\n",
      "symmetry error             0.006522\n",
      "Name: target, dtype: float64\n"
     ]
    }
   ],
   "source": [
    "# Calculate correlation of each feature with the target\n",
    "CorrelationWithTarget = df.corr()['target'].abs().sort_values(ascending=False)\n",
    "# Print the sorted correlations\n",
    "print(CorrelationWithTarget)"
   ]
  },
  {
   "cell_type": "code",
   "execution_count": 32,
   "id": "93b6763c-bc00-4c0a-ad0a-7620ba97d1b1",
   "metadata": {},
   "outputs": [
    {
     "name": "stdout",
     "output_type": "stream",
     "text": [
      "Index(['worst concave points', 'worst perimeter', 'mean concave points',\n",
      "       'worst radius', 'mean perimeter', 'worst area', 'mean radius',\n",
      "       'mean area', 'mean concavity', 'worst concavity'],\n",
      "      dtype='object')\n"
     ]
    }
   ],
   "source": [
    "# Selecting the top 10 features most correlated with the target by excluding 'target' itself\n",
    "TopFeatures = CorrelationWithTarget[1:11].index\n",
    "# Printing the top features\n",
    "print(TopFeatures)"
   ]
  },
  {
   "cell_type": "code",
   "execution_count": 33,
   "id": "e26630ec-9008-4750-87a2-4ce66c38e88e",
   "metadata": {},
   "outputs": [
    {
     "name": "stdout",
     "output_type": "stream",
     "text": [
      "['malignant' 'benign']\n"
     ]
    }
   ],
   "source": [
    "# Defining feature matrix x using the top correlated features\n",
    "x = df[TopFeatures]\n",
    "# Defining target variable y\n",
    "y = df['target']\n",
    "# Printing the names of the target classes\n",
    "print(data.target_names)"
   ]
  },
  {
   "cell_type": "code",
   "execution_count": 34,
   "id": "5c586e0d-25e0-4e64-86c6-7483f6394851",
   "metadata": {},
   "outputs": [
    {
     "name": "stdout",
     "output_type": "stream",
     "text": [
      "[0 1]\n"
     ]
    }
   ],
   "source": [
    "import numpy as np\n",
    "# Printing the unique values in the target variable\n",
    "print(np.unique(y))"
   ]
  },
  {
   "cell_type": "code",
   "execution_count": 35,
   "id": "4825625e-fae2-4bb8-9dec-72329258ac16",
   "metadata": {},
   "outputs": [
    {
     "name": "stdout",
     "output_type": "stream",
     "text": [
      "target\n",
      "1    357\n",
      "0    212\n",
      "Name: count, dtype: int64\n"
     ]
    }
   ],
   "source": [
    "# Printing the number of occurrences of each class in the target column\n",
    "print(df['target'].value_counts())"
   ]
  },
  {
   "cell_type": "markdown",
   "id": "8abf6ddf-c0a3-4cfe-a52a-f911621c66e4",
   "metadata": {},
   "source": [
    "#### The dataset is slightly imbalanced."
   ]
  },
  {
   "cell_type": "code",
   "execution_count": 36,
   "id": "c6a74d08-103b-4dd9-a493-5b153c87d368",
   "metadata": {},
   "outputs": [],
   "source": [
    "from sklearn.preprocessing import StandardScaler\n",
    "scaler = StandardScaler()\n",
    "x_scaled = scaler.fit_transform(x)"
   ]
  },
  {
   "cell_type": "code",
   "execution_count": 37,
   "id": "f06e22aa-7226-4c1f-995f-eae2b697f4b7",
   "metadata": {},
   "outputs": [],
   "source": [
    "from sklearn.model_selection import train_test_split\n",
    "x_train, x_test, y_train, y_test = train_test_split(\n",
    "    x_scaled, y, test_size=0.2, random_state=42\n",
    ")"
   ]
  },
  {
   "cell_type": "markdown",
   "id": "973df21e-ffde-446a-80c6-b2bcdae3f62e",
   "metadata": {},
   "source": [
    "### **Classification Algorithm Implementation**"
   ]
  },
  {
   "cell_type": "markdown",
   "id": "53335240-b7ff-44ce-bbc5-d31a351fdf09",
   "metadata": {},
   "source": [
    "#### **Logistic Regression**"
   ]
  },
  {
   "cell_type": "code",
   "execution_count": 38,
   "id": "28fd61f3-21ad-4591-9f8a-706fa190e2e1",
   "metadata": {},
   "outputs": [
    {
     "data": {
      "text/html": [
       "<style>#sk-container-id-3 {\n",
       "  /* Definition of color scheme common for light and dark mode */\n",
       "  --sklearn-color-text: #000;\n",
       "  --sklearn-color-text-muted: #666;\n",
       "  --sklearn-color-line: gray;\n",
       "  /* Definition of color scheme for unfitted estimators */\n",
       "  --sklearn-color-unfitted-level-0: #fff5e6;\n",
       "  --sklearn-color-unfitted-level-1: #f6e4d2;\n",
       "  --sklearn-color-unfitted-level-2: #ffe0b3;\n",
       "  --sklearn-color-unfitted-level-3: chocolate;\n",
       "  /* Definition of color scheme for fitted estimators */\n",
       "  --sklearn-color-fitted-level-0: #f0f8ff;\n",
       "  --sklearn-color-fitted-level-1: #d4ebff;\n",
       "  --sklearn-color-fitted-level-2: #b3dbfd;\n",
       "  --sklearn-color-fitted-level-3: cornflowerblue;\n",
       "\n",
       "  /* Specific color for light theme */\n",
       "  --sklearn-color-text-on-default-background: var(--sg-text-color, var(--theme-code-foreground, var(--jp-content-font-color1, black)));\n",
       "  --sklearn-color-background: var(--sg-background-color, var(--theme-background, var(--jp-layout-color0, white)));\n",
       "  --sklearn-color-border-box: var(--sg-text-color, var(--theme-code-foreground, var(--jp-content-font-color1, black)));\n",
       "  --sklearn-color-icon: #696969;\n",
       "\n",
       "  @media (prefers-color-scheme: dark) {\n",
       "    /* Redefinition of color scheme for dark theme */\n",
       "    --sklearn-color-text-on-default-background: var(--sg-text-color, var(--theme-code-foreground, var(--jp-content-font-color1, white)));\n",
       "    --sklearn-color-background: var(--sg-background-color, var(--theme-background, var(--jp-layout-color0, #111)));\n",
       "    --sklearn-color-border-box: var(--sg-text-color, var(--theme-code-foreground, var(--jp-content-font-color1, white)));\n",
       "    --sklearn-color-icon: #878787;\n",
       "  }\n",
       "}\n",
       "\n",
       "#sk-container-id-3 {\n",
       "  color: var(--sklearn-color-text);\n",
       "}\n",
       "\n",
       "#sk-container-id-3 pre {\n",
       "  padding: 0;\n",
       "}\n",
       "\n",
       "#sk-container-id-3 input.sk-hidden--visually {\n",
       "  border: 0;\n",
       "  clip: rect(1px 1px 1px 1px);\n",
       "  clip: rect(1px, 1px, 1px, 1px);\n",
       "  height: 1px;\n",
       "  margin: -1px;\n",
       "  overflow: hidden;\n",
       "  padding: 0;\n",
       "  position: absolute;\n",
       "  width: 1px;\n",
       "}\n",
       "\n",
       "#sk-container-id-3 div.sk-dashed-wrapped {\n",
       "  border: 1px dashed var(--sklearn-color-line);\n",
       "  margin: 0 0.4em 0.5em 0.4em;\n",
       "  box-sizing: border-box;\n",
       "  padding-bottom: 0.4em;\n",
       "  background-color: var(--sklearn-color-background);\n",
       "}\n",
       "\n",
       "#sk-container-id-3 div.sk-container {\n",
       "  /* jupyter's `normalize.less` sets `[hidden] { display: none; }`\n",
       "     but bootstrap.min.css set `[hidden] { display: none !important; }`\n",
       "     so we also need the `!important` here to be able to override the\n",
       "     default hidden behavior on the sphinx rendered scikit-learn.org.\n",
       "     See: https://github.com/scikit-learn/scikit-learn/issues/21755 */\n",
       "  display: inline-block !important;\n",
       "  position: relative;\n",
       "}\n",
       "\n",
       "#sk-container-id-3 div.sk-text-repr-fallback {\n",
       "  display: none;\n",
       "}\n",
       "\n",
       "div.sk-parallel-item,\n",
       "div.sk-serial,\n",
       "div.sk-item {\n",
       "  /* draw centered vertical line to link estimators */\n",
       "  background-image: linear-gradient(var(--sklearn-color-text-on-default-background), var(--sklearn-color-text-on-default-background));\n",
       "  background-size: 2px 100%;\n",
       "  background-repeat: no-repeat;\n",
       "  background-position: center center;\n",
       "}\n",
       "\n",
       "/* Parallel-specific style estimator block */\n",
       "\n",
       "#sk-container-id-3 div.sk-parallel-item::after {\n",
       "  content: \"\";\n",
       "  width: 100%;\n",
       "  border-bottom: 2px solid var(--sklearn-color-text-on-default-background);\n",
       "  flex-grow: 1;\n",
       "}\n",
       "\n",
       "#sk-container-id-3 div.sk-parallel {\n",
       "  display: flex;\n",
       "  align-items: stretch;\n",
       "  justify-content: center;\n",
       "  background-color: var(--sklearn-color-background);\n",
       "  position: relative;\n",
       "}\n",
       "\n",
       "#sk-container-id-3 div.sk-parallel-item {\n",
       "  display: flex;\n",
       "  flex-direction: column;\n",
       "}\n",
       "\n",
       "#sk-container-id-3 div.sk-parallel-item:first-child::after {\n",
       "  align-self: flex-end;\n",
       "  width: 50%;\n",
       "}\n",
       "\n",
       "#sk-container-id-3 div.sk-parallel-item:last-child::after {\n",
       "  align-self: flex-start;\n",
       "  width: 50%;\n",
       "}\n",
       "\n",
       "#sk-container-id-3 div.sk-parallel-item:only-child::after {\n",
       "  width: 0;\n",
       "}\n",
       "\n",
       "/* Serial-specific style estimator block */\n",
       "\n",
       "#sk-container-id-3 div.sk-serial {\n",
       "  display: flex;\n",
       "  flex-direction: column;\n",
       "  align-items: center;\n",
       "  background-color: var(--sklearn-color-background);\n",
       "  padding-right: 1em;\n",
       "  padding-left: 1em;\n",
       "}\n",
       "\n",
       "\n",
       "/* Toggleable style: style used for estimator/Pipeline/ColumnTransformer box that is\n",
       "clickable and can be expanded/collapsed.\n",
       "- Pipeline and ColumnTransformer use this feature and define the default style\n",
       "- Estimators will overwrite some part of the style using the `sk-estimator` class\n",
       "*/\n",
       "\n",
       "/* Pipeline and ColumnTransformer style (default) */\n",
       "\n",
       "#sk-container-id-3 div.sk-toggleable {\n",
       "  /* Default theme specific background. It is overwritten whether we have a\n",
       "  specific estimator or a Pipeline/ColumnTransformer */\n",
       "  background-color: var(--sklearn-color-background);\n",
       "}\n",
       "\n",
       "/* Toggleable label */\n",
       "#sk-container-id-3 label.sk-toggleable__label {\n",
       "  cursor: pointer;\n",
       "  display: flex;\n",
       "  width: 100%;\n",
       "  margin-bottom: 0;\n",
       "  padding: 0.5em;\n",
       "  box-sizing: border-box;\n",
       "  text-align: center;\n",
       "  align-items: start;\n",
       "  justify-content: space-between;\n",
       "  gap: 0.5em;\n",
       "}\n",
       "\n",
       "#sk-container-id-3 label.sk-toggleable__label .caption {\n",
       "  font-size: 0.6rem;\n",
       "  font-weight: lighter;\n",
       "  color: var(--sklearn-color-text-muted);\n",
       "}\n",
       "\n",
       "#sk-container-id-3 label.sk-toggleable__label-arrow:before {\n",
       "  /* Arrow on the left of the label */\n",
       "  content: \"▸\";\n",
       "  float: left;\n",
       "  margin-right: 0.25em;\n",
       "  color: var(--sklearn-color-icon);\n",
       "}\n",
       "\n",
       "#sk-container-id-3 label.sk-toggleable__label-arrow:hover:before {\n",
       "  color: var(--sklearn-color-text);\n",
       "}\n",
       "\n",
       "/* Toggleable content - dropdown */\n",
       "\n",
       "#sk-container-id-3 div.sk-toggleable__content {\n",
       "  max-height: 0;\n",
       "  max-width: 0;\n",
       "  overflow: hidden;\n",
       "  text-align: left;\n",
       "  /* unfitted */\n",
       "  background-color: var(--sklearn-color-unfitted-level-0);\n",
       "}\n",
       "\n",
       "#sk-container-id-3 div.sk-toggleable__content.fitted {\n",
       "  /* fitted */\n",
       "  background-color: var(--sklearn-color-fitted-level-0);\n",
       "}\n",
       "\n",
       "#sk-container-id-3 div.sk-toggleable__content pre {\n",
       "  margin: 0.2em;\n",
       "  border-radius: 0.25em;\n",
       "  color: var(--sklearn-color-text);\n",
       "  /* unfitted */\n",
       "  background-color: var(--sklearn-color-unfitted-level-0);\n",
       "}\n",
       "\n",
       "#sk-container-id-3 div.sk-toggleable__content.fitted pre {\n",
       "  /* unfitted */\n",
       "  background-color: var(--sklearn-color-fitted-level-0);\n",
       "}\n",
       "\n",
       "#sk-container-id-3 input.sk-toggleable__control:checked~div.sk-toggleable__content {\n",
       "  /* Expand drop-down */\n",
       "  max-height: 200px;\n",
       "  max-width: 100%;\n",
       "  overflow: auto;\n",
       "}\n",
       "\n",
       "#sk-container-id-3 input.sk-toggleable__control:checked~label.sk-toggleable__label-arrow:before {\n",
       "  content: \"▾\";\n",
       "}\n",
       "\n",
       "/* Pipeline/ColumnTransformer-specific style */\n",
       "\n",
       "#sk-container-id-3 div.sk-label input.sk-toggleable__control:checked~label.sk-toggleable__label {\n",
       "  color: var(--sklearn-color-text);\n",
       "  background-color: var(--sklearn-color-unfitted-level-2);\n",
       "}\n",
       "\n",
       "#sk-container-id-3 div.sk-label.fitted input.sk-toggleable__control:checked~label.sk-toggleable__label {\n",
       "  background-color: var(--sklearn-color-fitted-level-2);\n",
       "}\n",
       "\n",
       "/* Estimator-specific style */\n",
       "\n",
       "/* Colorize estimator box */\n",
       "#sk-container-id-3 div.sk-estimator input.sk-toggleable__control:checked~label.sk-toggleable__label {\n",
       "  /* unfitted */\n",
       "  background-color: var(--sklearn-color-unfitted-level-2);\n",
       "}\n",
       "\n",
       "#sk-container-id-3 div.sk-estimator.fitted input.sk-toggleable__control:checked~label.sk-toggleable__label {\n",
       "  /* fitted */\n",
       "  background-color: var(--sklearn-color-fitted-level-2);\n",
       "}\n",
       "\n",
       "#sk-container-id-3 div.sk-label label.sk-toggleable__label,\n",
       "#sk-container-id-3 div.sk-label label {\n",
       "  /* The background is the default theme color */\n",
       "  color: var(--sklearn-color-text-on-default-background);\n",
       "}\n",
       "\n",
       "/* On hover, darken the color of the background */\n",
       "#sk-container-id-3 div.sk-label:hover label.sk-toggleable__label {\n",
       "  color: var(--sklearn-color-text);\n",
       "  background-color: var(--sklearn-color-unfitted-level-2);\n",
       "}\n",
       "\n",
       "/* Label box, darken color on hover, fitted */\n",
       "#sk-container-id-3 div.sk-label.fitted:hover label.sk-toggleable__label.fitted {\n",
       "  color: var(--sklearn-color-text);\n",
       "  background-color: var(--sklearn-color-fitted-level-2);\n",
       "}\n",
       "\n",
       "/* Estimator label */\n",
       "\n",
       "#sk-container-id-3 div.sk-label label {\n",
       "  font-family: monospace;\n",
       "  font-weight: bold;\n",
       "  display: inline-block;\n",
       "  line-height: 1.2em;\n",
       "}\n",
       "\n",
       "#sk-container-id-3 div.sk-label-container {\n",
       "  text-align: center;\n",
       "}\n",
       "\n",
       "/* Estimator-specific */\n",
       "#sk-container-id-3 div.sk-estimator {\n",
       "  font-family: monospace;\n",
       "  border: 1px dotted var(--sklearn-color-border-box);\n",
       "  border-radius: 0.25em;\n",
       "  box-sizing: border-box;\n",
       "  margin-bottom: 0.5em;\n",
       "  /* unfitted */\n",
       "  background-color: var(--sklearn-color-unfitted-level-0);\n",
       "}\n",
       "\n",
       "#sk-container-id-3 div.sk-estimator.fitted {\n",
       "  /* fitted */\n",
       "  background-color: var(--sklearn-color-fitted-level-0);\n",
       "}\n",
       "\n",
       "/* on hover */\n",
       "#sk-container-id-3 div.sk-estimator:hover {\n",
       "  /* unfitted */\n",
       "  background-color: var(--sklearn-color-unfitted-level-2);\n",
       "}\n",
       "\n",
       "#sk-container-id-3 div.sk-estimator.fitted:hover {\n",
       "  /* fitted */\n",
       "  background-color: var(--sklearn-color-fitted-level-2);\n",
       "}\n",
       "\n",
       "/* Specification for estimator info (e.g. \"i\" and \"?\") */\n",
       "\n",
       "/* Common style for \"i\" and \"?\" */\n",
       "\n",
       ".sk-estimator-doc-link,\n",
       "a:link.sk-estimator-doc-link,\n",
       "a:visited.sk-estimator-doc-link {\n",
       "  float: right;\n",
       "  font-size: smaller;\n",
       "  line-height: 1em;\n",
       "  font-family: monospace;\n",
       "  background-color: var(--sklearn-color-background);\n",
       "  border-radius: 1em;\n",
       "  height: 1em;\n",
       "  width: 1em;\n",
       "  text-decoration: none !important;\n",
       "  margin-left: 0.5em;\n",
       "  text-align: center;\n",
       "  /* unfitted */\n",
       "  border: var(--sklearn-color-unfitted-level-1) 1pt solid;\n",
       "  color: var(--sklearn-color-unfitted-level-1);\n",
       "}\n",
       "\n",
       ".sk-estimator-doc-link.fitted,\n",
       "a:link.sk-estimator-doc-link.fitted,\n",
       "a:visited.sk-estimator-doc-link.fitted {\n",
       "  /* fitted */\n",
       "  border: var(--sklearn-color-fitted-level-1) 1pt solid;\n",
       "  color: var(--sklearn-color-fitted-level-1);\n",
       "}\n",
       "\n",
       "/* On hover */\n",
       "div.sk-estimator:hover .sk-estimator-doc-link:hover,\n",
       ".sk-estimator-doc-link:hover,\n",
       "div.sk-label-container:hover .sk-estimator-doc-link:hover,\n",
       ".sk-estimator-doc-link:hover {\n",
       "  /* unfitted */\n",
       "  background-color: var(--sklearn-color-unfitted-level-3);\n",
       "  color: var(--sklearn-color-background);\n",
       "  text-decoration: none;\n",
       "}\n",
       "\n",
       "div.sk-estimator.fitted:hover .sk-estimator-doc-link.fitted:hover,\n",
       ".sk-estimator-doc-link.fitted:hover,\n",
       "div.sk-label-container:hover .sk-estimator-doc-link.fitted:hover,\n",
       ".sk-estimator-doc-link.fitted:hover {\n",
       "  /* fitted */\n",
       "  background-color: var(--sklearn-color-fitted-level-3);\n",
       "  color: var(--sklearn-color-background);\n",
       "  text-decoration: none;\n",
       "}\n",
       "\n",
       "/* Span, style for the box shown on hovering the info icon */\n",
       ".sk-estimator-doc-link span {\n",
       "  display: none;\n",
       "  z-index: 9999;\n",
       "  position: relative;\n",
       "  font-weight: normal;\n",
       "  right: .2ex;\n",
       "  padding: .5ex;\n",
       "  margin: .5ex;\n",
       "  width: min-content;\n",
       "  min-width: 20ex;\n",
       "  max-width: 50ex;\n",
       "  color: var(--sklearn-color-text);\n",
       "  box-shadow: 2pt 2pt 4pt #999;\n",
       "  /* unfitted */\n",
       "  background: var(--sklearn-color-unfitted-level-0);\n",
       "  border: .5pt solid var(--sklearn-color-unfitted-level-3);\n",
       "}\n",
       "\n",
       ".sk-estimator-doc-link.fitted span {\n",
       "  /* fitted */\n",
       "  background: var(--sklearn-color-fitted-level-0);\n",
       "  border: var(--sklearn-color-fitted-level-3);\n",
       "}\n",
       "\n",
       ".sk-estimator-doc-link:hover span {\n",
       "  display: block;\n",
       "}\n",
       "\n",
       "/* \"?\"-specific style due to the `<a>` HTML tag */\n",
       "\n",
       "#sk-container-id-3 a.estimator_doc_link {\n",
       "  float: right;\n",
       "  font-size: 1rem;\n",
       "  line-height: 1em;\n",
       "  font-family: monospace;\n",
       "  background-color: var(--sklearn-color-background);\n",
       "  border-radius: 1rem;\n",
       "  height: 1rem;\n",
       "  width: 1rem;\n",
       "  text-decoration: none;\n",
       "  /* unfitted */\n",
       "  color: var(--sklearn-color-unfitted-level-1);\n",
       "  border: var(--sklearn-color-unfitted-level-1) 1pt solid;\n",
       "}\n",
       "\n",
       "#sk-container-id-3 a.estimator_doc_link.fitted {\n",
       "  /* fitted */\n",
       "  border: var(--sklearn-color-fitted-level-1) 1pt solid;\n",
       "  color: var(--sklearn-color-fitted-level-1);\n",
       "}\n",
       "\n",
       "/* On hover */\n",
       "#sk-container-id-3 a.estimator_doc_link:hover {\n",
       "  /* unfitted */\n",
       "  background-color: var(--sklearn-color-unfitted-level-3);\n",
       "  color: var(--sklearn-color-background);\n",
       "  text-decoration: none;\n",
       "}\n",
       "\n",
       "#sk-container-id-3 a.estimator_doc_link.fitted:hover {\n",
       "  /* fitted */\n",
       "  background-color: var(--sklearn-color-fitted-level-3);\n",
       "}\n",
       "</style><div id=\"sk-container-id-3\" class=\"sk-top-container\"><div class=\"sk-text-repr-fallback\"><pre>LogisticRegression()</pre><b>In a Jupyter environment, please rerun this cell to show the HTML representation or trust the notebook. <br />On GitHub, the HTML representation is unable to render, please try loading this page with nbviewer.org.</b></div><div class=\"sk-container\" hidden><div class=\"sk-item\"><div class=\"sk-estimator fitted sk-toggleable\"><input class=\"sk-toggleable__control sk-hidden--visually\" id=\"sk-estimator-id-3\" type=\"checkbox\" checked><label for=\"sk-estimator-id-3\" class=\"sk-toggleable__label fitted sk-toggleable__label-arrow\"><div><div>LogisticRegression</div></div><div><a class=\"sk-estimator-doc-link fitted\" rel=\"noreferrer\" target=\"_blank\" href=\"https://scikit-learn.org/1.6/modules/generated/sklearn.linear_model.LogisticRegression.html\">?<span>Documentation for LogisticRegression</span></a><span class=\"sk-estimator-doc-link fitted\">i<span>Fitted</span></span></div></label><div class=\"sk-toggleable__content fitted\"><pre>LogisticRegression()</pre></div> </div></div></div></div>"
      ],
      "text/plain": [
       "LogisticRegression()"
      ]
     },
     "execution_count": 38,
     "metadata": {},
     "output_type": "execute_result"
    }
   ],
   "source": [
    "from sklearn.linear_model import LogisticRegression\n",
    "# Initializing the logistic regression model\n",
    "LogicModel = LogisticRegression()\n",
    "# Training the model using the training data\n",
    "LogicModel.fit(x_train, y_train)"
   ]
  },
  {
   "cell_type": "code",
   "execution_count": 39,
   "id": "243964f9-4a8e-44ad-aa35-c8188a3888e2",
   "metadata": {},
   "outputs": [],
   "source": [
    "y_predict_Logic = LogicModel.predict(x_test)"
   ]
  },
  {
   "cell_type": "code",
   "execution_count": 40,
   "id": "b6c23d95-ca2d-43e1-8c21-5dd88968fe0c",
   "metadata": {},
   "outputs": [
    {
     "name": "stdout",
     "output_type": "stream",
     "text": [
      "Model Performance Metrics:\n",
      "Accuracy:  0.9737\n",
      "Precision: 0.9857\n",
      "Recall:    0.9718\n",
      "F1 Score:  0.9787\n"
     ]
    }
   ],
   "source": [
    "from sklearn.metrics import accuracy_score, precision_score, recall_score, f1_score\n",
    "print(\"Model Performance Metrics:\")\n",
    "print(f\"Accuracy:  {accuracy_score(y_test, y_predict_Logic):.4f}\")\n",
    "print(f\"Precision: {precision_score(y_test, y_predict_Logic):.4f}\")\n",
    "print(f\"Recall:    {recall_score(y_test, y_predict_Logic):.4f}\")\n",
    "print(f\"F1 Score:  {f1_score(y_test, y_predict_Logic):.4f}\")"
   ]
  },
  {
   "cell_type": "markdown",
   "id": "ab20f7a9-0ada-4691-8a2c-dbd79fc4f4bf",
   "metadata": {},
   "source": [
    "##### Because the dataset is imbalanced, it’s important to use weighted average and macro average metrics to accurately evaluate the overall model performance."
   ]
  },
  {
   "cell_type": "code",
   "execution_count": 41,
   "id": "020df9be-5597-4206-96b7-82f4cfa21940",
   "metadata": {},
   "outputs": [
    {
     "name": "stdout",
     "output_type": "stream",
     "text": [
      "              precision    recall  f1-score   support\n",
      "\n",
      "      Cancer       0.95      0.98      0.97        43\n",
      "  Non-Cancer       0.99      0.97      0.98        71\n",
      "\n",
      "    accuracy                           0.97       114\n",
      "   macro avg       0.97      0.97      0.97       114\n",
      "weighted avg       0.97      0.97      0.97       114\n",
      "\n"
     ]
    }
   ],
   "source": [
    "from sklearn.metrics import classification_report\n",
    "# Generating and print a detailed classification report for each class\n",
    "print(classification_report(y_test, y_predict_Logic, target_names=['Cancer', 'Non-Cancer']))"
   ]
  },
  {
   "cell_type": "markdown",
   "id": "efa7e67a-b101-4e74-8648-e9ec896f67ba",
   "metadata": {},
   "source": [
    "##### Since the dataset is imbalanced, using both weighted and macro averages provides a more accurate assessment of overall model performance."
   ]
  },
  {
   "cell_type": "code",
   "execution_count": 52,
   "id": "102edb19-d3f1-48e1-b023-976be3522420",
   "metadata": {},
   "outputs": [
    {
     "name": "stdout",
     "output_type": "stream",
     "text": [
      "Extended Metrics:\n",
      "Precision (Macro):     0.9701298701298702\n",
      "Recall (Macro):        0.9742875859810023\n",
      "F1 Score (Macro):      0.9721203228173148\n",
      "Precision (Weighted):  0.9739576213260425\n",
      "Recall (Weighted):     0.9736842105263158\n",
      "F1 Score (Weighted):   0.9737421322933159\n"
     ]
    }
   ],
   "source": [
    "print(\"Extended Metrics:\")\n",
    "print(\"Precision (Macro):    \", precision_score(y_test, y_predict_Logic, average='macro'))\n",
    "print(\"Recall (Macro):       \", recall_score(y_test, y_predict_Logic, average='macro'))\n",
    "print(\"F1 Score (Macro):     \", f1_score(y_test, y_predict_Logic, average='macro'))\n",
    "\n",
    "print(\"Precision (Weighted): \", precision_score(y_test, y_predict_Logic, average='weighted'))\n",
    "print(\"Recall (Weighted):    \", recall_score(y_test, y_predict_Logic, average='weighted'))\n",
    "print(\"F1 Score (Weighted):  \", f1_score(y_test, y_predict_Logic, average='weighted'))"
   ]
  },
  {
   "cell_type": "markdown",
   "id": "8cb446e7-7a86-47a0-bfe0-9b3d82eb703e",
   "metadata": {},
   "source": [
    "##### Confusion matrix to visualize True Positives (TP), True Negatives (TN), False Positives (FP), and False Negatives (FN) for classes 0 and 1, the foundation for evaluating precision, recall, and F1 score."
   ]
  },
  {
   "cell_type": "code",
   "execution_count": 44,
   "id": "0afbfa7b-5376-4e94-acc5-386fdc3b8de8",
   "metadata": {},
   "outputs": [
    {
     "data": {
      "image/png": "[encoded data removed]",
      "text/plain": [
       "<Figure size 640x480 with 2 Axes>"
      ]
     },
     "metadata": {},
     "output_type": "display_data"
    }
   ],
   "source": [
    "from sklearn.metrics import confusion_matrix\n",
    "import seaborn as sns\n",
    "import matplotlib.pyplot as plt\n",
    "# Computing the confusion matrix\n",
    "cm = confusion_matrix(y_test, y_predict_Logic)\n",
    "\n",
    "# Plotting the confusion matrix using a heatmap\n",
    "sns.heatmap(\n",
    "    cm, \n",
    "    annot=True, \n",
    "    fmt='d', \n",
    "    cmap='Blues', \n",
    "    xticklabels=['Cancer', 'Non-Cancer'], \n",
    "    yticklabels=['Cancer', 'Non-Cancer']\n",
    ")\n",
    "plt.xlabel('Predicted Label')\n",
    "plt.ylabel('True Label')\n",
    "plt.title('Confusion Matrix Visualization')\n",
    "plt.show()"
   ]
  },
  {
   "cell_type": "markdown",
   "id": "aecef821-b774-48ac-84a7-148657e41179",
   "metadata": {},
   "source": [
    "##### On average, 97.42% of the positive predictions, across both the cancer and non-cancer classes—were accurate.\n",
    "##### The macro average gives equal weight to each class, regardless of their sample sizes.\n",
    "##### Interpretation: The model demonstrates balanced precision across both classes, indicating no class-specific bias."
   ]
  },
  {
   "cell_type": "markdown",
   "id": "f1e5a3a0-abed-49f6-93ef-e32dd13c710b",
   "metadata": {},
   "source": [
    "#### **Decision Tree**"
   ]
  },
  {
   "cell_type": "code",
   "execution_count": 47,
   "id": "0d52b221-db08-4ff5-be11-d3b54aa3ed8f",
   "metadata": {},
   "outputs": [
    {
     "name": "stdout",
     "output_type": "stream",
     "text": [
      "Decision Tree - Performance Metrics:\n",
      "Accuracy:0.9298\n",
      "Precision:0.9315\n",
      "Recall:0.9577\n",
      "F1 Score:0.9444\n"
     ]
    }
   ],
   "source": [
    "from sklearn.tree import DecisionTreeClassifier\n",
    "from sklearn.metrics import accuracy_score, precision_score, recall_score, f1_score, classification_report, confusion_matrix\n",
    "import seaborn as sns\n",
    "import matplotlib.pyplot as plt\n",
    "# Initializing the Decision Tree classifier with a fixed random seed\n",
    "DecisionTree_classifier = DecisionTreeClassifier(random_state=42)\n",
    "# Training the model on the training data\n",
    "DecisionTree_classifier.fit(x_train, y_train)\n",
    "# Predicting the target values for the test set\n",
    "y_predict_Decision = DecisionTree_classifier.predict(x_test)\n",
    "# Calculating performance metrics\n",
    "accuracy = accuracy_score(y_test, y_predict_Decision)\n",
    "precision = precision_score(y_test, y_predict_Decision)\n",
    "recall = recall_score(y_test, y_predict_Decision)\n",
    "f1 = f1_score(y_test, y_predict_Decision)\n",
    "# Displaying the results\n",
    "print(\"Decision Tree - Performance Metrics:\")\n",
    "print(f\"Accuracy:{accuracy:.4f}\")\n",
    "print(f\"Precision:{precision:.4f}\")\n",
    "print(f\"Recall:{recall:.4f}\")\n",
    "print(f\"F1 Score:{f1:.4f}\")"
   ]
  },
  {
   "cell_type": "code",
   "execution_count": 48,
   "id": "aa23e5b3-a90e-480d-928c-40f3d08f5c74",
   "metadata": {},
   "outputs": [
    {
     "name": "stdout",
     "output_type": "stream",
     "text": [
      "\n",
      "Detailed Classification Report:\n",
      "              precision    recall  f1-score   support\n",
      "\n",
      "   malignant       0.93      0.88      0.90        43\n",
      "      benign       0.93      0.96      0.94        71\n",
      "\n",
      "    accuracy                           0.93       114\n",
      "   macro avg       0.93      0.92      0.92       114\n",
      "weighted avg       0.93      0.93      0.93       114\n",
      "\n"
     ]
    }
   ],
   "source": [
    "# Display the detailed classification report with class labels\n",
    "print(\"\\nDetailed Classification Report:\")\n",
    "print(classification_report(y_test, y_predict_Decision, target_names=data.target_names))"
   ]
  },
  {
   "cell_type": "code",
   "execution_count": 50,
   "id": "087a7186-0784-4105-93d3-566c79458223",
   "metadata": {},
   "outputs": [
    {
     "name": "stdout",
     "output_type": "stream",
     "text": [
      "\n",
      "Extended Evaluation Metrics (Decision Tree):\n",
      "Macro Precision:0.9292\n",
      "Macro Recall:0.9207\n",
      "Macro F1 Score:0.9246\n",
      "Weighted Precision:0.9297\n",
      "Weighted Recall:0.9298\n",
      "Weighted F1 Score:0.9295\n"
     ]
    }
   ],
   "source": [
    "# Calculating the macro averaged metrics (treats all classes equally)\n",
    "precision_macro = precision_score(y_test, y_predict_Decision, average='macro')\n",
    "recall_macro = recall_score(y_test, y_predict_Decision, average='macro')\n",
    "f1_macro = f1_score(y_test, y_predict_Decision, average='macro')\n",
    "# Calculating the weighted-averaged metrics (accounts for class imbalance)\n",
    "precision_weighted = precision_score(y_test, y_predict_Decision, average='weighted')\n",
    "recall_weighted = recall_score(y_test, y_predict_Decision, average='weighted')\n",
    "f1_weighted = f1_score(y_test, y_predict_Decision, average='weighted')\n",
    "# Displaying the extended evaluation metrics\n",
    "print(\"\\nExtended Evaluation Metrics (Decision Tree):\")\n",
    "print(f\"Macro Precision:{precision_macro:.4f}\")\n",
    "print(f\"Macro Recall:{recall_macro:.4f}\")\n",
    "print(f\"Macro F1 Score:{f1_macro:.4f}\")\n",
    "print(f\"Weighted Precision:{precision_weighted:.4f}\")\n",
    "print(f\"Weighted Recall:{recall_weighted:.4f}\")\n",
    "print(f\"Weighted F1 Score:{f1_weighted:.4f}\")"
   ]
  },
  {
   "cell_type": "code",
   "execution_count": 51,
   "id": "090add7a-1b58-4132-870e-292f68c91e25",
   "metadata": {},
   "outputs": [
    {
     "data": {
      "image/png": "[encoded data removed]",
      "text/plain": [
       "<Figure size 600x400 with 2 Axes>"
      ]
     },
     "metadata": {},
     "output_type": "display_data"
    }
   ],
   "source": [
    "# Computing the confusion matrix for Decision Tree predictions\n",
    "cm_dt = confusion_matrix(y_test, y_predict_Decision)\n",
    "# Creating a heatmap to visualize the confusion matrix\n",
    "plt.figure(figsize=(6, 4))\n",
    "sns.heatmap(\n",
    "    cm_dt, \n",
    "    annot=True, \n",
    "    fmt='d', \n",
    "    cmap='Purples', \n",
    "    xticklabels=data.target_names, \n",
    "    yticklabels=data.target_names\n",
    ")\n",
    "# Adding plot labels and title\n",
    "plt.xlabel(\"Predicted Class\")\n",
    "plt.ylabel(\"Actual Class\")\n",
    "plt.title(\"Decision Tree Confusion Matrix\")\n",
    "plt.show()"
   ]
  },
  {
   "cell_type": "markdown",
   "id": "049bb29d-dbcd-4da3-97f2-694d08dcf681",
   "metadata": {},
   "source": [
    "##### The model demonstrated strong and balanced performance, with an Macro F1 Score of 0.9246 and an Weighted F1 Score of 0.9295. This indicates effective classification across both cancerous and non-cancerous cases.\n",
    "##### The minimal gap between the macro and weighted scores suggests that the model handles class imbalance well and maintains consistent accuracy across both classes.\n",
    "\n",
    "##### Overall, the Decision Tree classifier shows reliability in minimizing both false positives and false negatives, making it a suitable choice for medical diagnosis applications."
   ]
  },
  {
   "cell_type": "markdown",
   "id": "4d542798-d074-4623-bfb1-1e2df2297f09",
   "metadata": {},
   "source": [
    "### **Random Forest**"
   ]
  },
  {
   "cell_type": "code",
   "execution_count": 57,
   "id": "2d000d40-a0e8-40e2-9a91-4b6c3bd996fb",
   "metadata": {},
   "outputs": [],
   "source": [
    "from sklearn.ensemble import RandomForestClassifier\n",
    "# Initializing and train the Random Forest classifier\n",
    "RandomForest = RandomForestClassifier(random_state=42)\n",
    "RandomForest.fit(x_train, y_train)\n",
    "# Making the predictions on the test data\n",
    "y_predict_Random = RandomForest.predict(x_test)"
   ]
  },
  {
   "cell_type": "code",
   "execution_count": 69,
   "id": "bdc4b21d-3a7d-4dec-9df6-f69d3c669691",
   "metadata": {},
   "outputs": [
    {
     "name": "stdout",
     "output_type": "stream",
     "text": [
      "Random Forest - Evaluation Metrics:\n",
      "Accuracy:0.9561\n",
      "Precision:0.9583\n",
      "Recall:0.9718\n",
      "F1 Score:0.9650\n"
     ]
    }
   ],
   "source": [
    "from sklearn.metrics import accuracy_score, precision_score, recall_score, f1_score\n",
    "# Evaluating the performance metrics for the Random Forest model\n",
    "accuracy_rf = accuracy_score(y_test, y_predict_Random)\n",
    "precision_rf = precision_score(y_test, y_predict_Random)\n",
    "recall_rf = recall_score(y_test, y_predict_Random)\n",
    "f1_rf = f1_score(y_test, y_predict_Random)\n",
    "# Displaying the results\n",
    "print(\"Random Forest - Evaluation Metrics:\")\n",
    "print(f\"Accuracy:{accuracy_rf:.4f}\")\n",
    "print(f\"Precision:{precision_rf:.4f}\")\n",
    "print(f\"Recall:{recall_rf:.4f}\")\n",
    "print(f\"F1 Score:{f1_rf:.4f}\")"
   ]
  },
  {
   "cell_type": "code",
   "execution_count": 60,
   "id": "308465be-ec70-4b95-befc-da5752399069",
   "metadata": {},
   "outputs": [
    {
     "name": "stdout",
     "output_type": "stream",
     "text": [
      "\n",
      "Detailed Classification Report:\n",
      "              precision    recall  f1-score   support\n",
      "\n",
      "   malignant       0.95      0.93      0.94        43\n",
      "      benign       0.96      0.97      0.97        71\n",
      "\n",
      "    accuracy                           0.96       114\n",
      "   macro avg       0.96      0.95      0.95       114\n",
      "weighted avg       0.96      0.96      0.96       114\n",
      "\n"
     ]
    }
   ],
   "source": [
    "from sklearn.metrics import classification_report\n",
    "# Printing the detailed classification report for the Random Forest model\n",
    "print(\"\\nDetailed Classification Report:\")\n",
    "print(classification_report(y_test, y_predict_Random, target_names=data.target_names))"
   ]
  },
  {
   "cell_type": "code",
   "execution_count": 68,
   "id": "20a16ed9-149e-4467-b1fa-a3f62ec9aa25",
   "metadata": {},
   "outputs": [
    {
     "name": "stdout",
     "output_type": "stream",
     "text": [
      "\n",
      "Extended Metrics (Random Forest):\n",
      "Macro Precision:0.9554\n",
      "Macro Recall:0.9510\n",
      "Macro F1 Score:0.9531\n",
      "Weighted Precision:0.9561\n",
      "Weighted Recall:0.9561\n",
      "Weighted F1 Score:0.9560\n"
     ]
    }
   ],
   "source": [
    "# Calculating the macro-averaged metrics (treats all classes equally)\n",
    "precision_macro_rf = precision_score(y_test, y_predict_Random, average='macro')\n",
    "recall_macro_rf = recall_score(y_test, y_predict_Random, average='macro')\n",
    "f1_macro_rf = f1_score(y_test, y_predict_Random, average='macro')\n",
    "# Calculating the weighted-averaged metrics (accounts for class imbalance)\n",
    "precision_weighted_rf = precision_score(y_test, y_predict_Random, average='weighted')\n",
    "recall_weighted_rf = recall_score(y_test, y_predict_Random, average='weighted')\n",
    "f1_weighted_rf = f1_score(y_test, y_predict_Random, average='weighted')\n",
    "# Displaying the extended evaluation metrics\n",
    "print(\"\\nExtended Metrics (Random Forest):\")\n",
    "print(f\"Macro Precision:{precision_macro_rf:.4f}\")\n",
    "print(f\"Macro Recall:{recall_macro_rf:.4f}\")\n",
    "print(f\"Macro F1 Score:{f1_macro_rf:.4f}\")\n",
    "print(f\"Weighted Precision:{precision_weighted_rf:.4f}\")\n",
    "print(f\"Weighted Recall:{recall_weighted_rf:.4f}\")\n",
    "print(f\"Weighted F1 Score:{f1_weighted_rf:.4f}\")"
   ]
  },
  {
   "cell_type": "markdown",
   "id": "4a1191c2-4128-4cb1-bdca-a647870c1a2b",
   "metadata": {},
   "source": [
    "##### The model demonstrates outstanding and consistent performance, with an Macro F1 Score of 0.9531 and an Weighted F1 Score of 0.9560, reflecting strong classification across both cancerous and non-cancerous categories.\n",
    "##### The minimal difference between macro and weighted scores indicates the model handles class imbalance effectively and maintains consistent results across all classes.\n",
    "##### High precision and recall values suggest that the Random Forest model is effective in reducing both false positives and false negatives—an essential trait for reliable medical diagnoses."
   ]
  },
  {
   "cell_type": "code",
   "execution_count": 64,
   "id": "33191a87-caa2-404f-9b4c-650d44f374c6",
   "metadata": {},
   "outputs": [
    {
     "data": {
      "image/png": "[encoded data removed]",
      "text/plain": [
       "<Figure size 600x400 with 2 Axes>"
      ]
     },
     "metadata": {},
     "output_type": "display_data"
    }
   ],
   "source": [
    "from sklearn.metrics import confusion_matrix\n",
    "import seaborn as sns\n",
    "import matplotlib.pyplot as plt\n",
    "# Generating the confusion matrix for Random Forest predictions\n",
    "conf_matrix_rf = confusion_matrix(y_test, y_predict_Random)\n",
    "# Plotting the confusion matrix using a heatmap\n",
    "plt.figure(figsize=(6, 4))\n",
    "sns.heatmap(\n",
    "    conf_matrix_rf,\n",
    "    annot=True,\n",
    "    fmt='d',\n",
    "    cmap='Greens',\n",
    "    xticklabels=data.target_names,\n",
    "    yticklabels=data.target_names\n",
    ")\n",
    "# Adding labels and title\n",
    "plt.xlabel(\"Predicted Class\")\n",
    "plt.ylabel(\"Actual Class\")\n",
    "plt.title(\"Random Forest - Confusion Matrix\")\n",
    "plt.show()"
   ]
  },
  {
   "cell_type": "markdown",
   "id": "5478c764-c0b1-45b5-995b-b5d5990d7252",
   "metadata": {},
   "source": [
    "### **Support Vector Machine**"
   ]
  },
  {
   "cell_type": "code",
   "execution_count": 67,
   "id": "e5e1847a-0da5-4d9d-a229-60870d7f141f",
   "metadata": {},
   "outputs": [],
   "source": [
    "from sklearn.svm import SVC\n",
    "# Initializing the Support Vector Machine classifier with a linear kernel\n",
    "SupportVector_classifier = SVC(kernel='linear', random_state=42)\n",
    "# Training the SVM model on the training data\n",
    "SupportVector_classifier.fit(x_train, y_train)\n",
    "# Making the predictions on the test set\n",
    "y_predict_Support = SupportVector_classifier.predict(x_test)"
   ]
  },
  {
   "cell_type": "code",
   "execution_count": 70,
   "id": "ca29ef63-8c03-40a1-a18d-84a6b5112b2e",
   "metadata": {},
   "outputs": [
    {
     "name": "stdout",
     "output_type": "stream",
     "text": [
      "SVM - Performance Metrics:\n",
      "Accuracy:0.9825\n",
      "Precision:0.9859\n",
      "Recall:0.9859\n",
      "F1 Score:0.9859\n"
     ]
    }
   ],
   "source": [
    "from sklearn.metrics import accuracy_score, precision_score, recall_score, f1_score\n",
    "# Evaluating performance metrics for the SVM model\n",
    "accuracy_svm = accuracy_score(y_test, y_predict_Support)\n",
    "precision_svm = precision_score(y_test, y_predict_Support)\n",
    "recall_svm = recall_score(y_test, y_predict_Support)\n",
    "f1_svm = f1_score(y_test, y_predict_Support)\n",
    "# Displaying the basic evaluation results\n",
    "print(\"SVM - Performance Metrics:\")\n",
    "print(f\"Accuracy:{accuracy_svm:.4f}\")\n",
    "print(f\"Precision:{precision_svm:.4f}\")\n",
    "print(f\"Recall:{recall_svm:.4f}\")\n",
    "print(f\"F1 Score:{f1_svm:.4f}\")"
   ]
  },
  {
   "cell_type": "code",
   "execution_count": 71,
   "id": "b977a5fd-8541-4cbe-af09-2b67b3cbc947",
   "metadata": {},
   "outputs": [
    {
     "name": "stdout",
     "output_type": "stream",
     "text": [
      "\n",
      "SVM - Detailed Classification Report:\n",
      "              precision    recall  f1-score   support\n",
      "\n",
      "   malignant       0.98      0.98      0.98        43\n",
      "      benign       0.99      0.99      0.99        71\n",
      "\n",
      "    accuracy                           0.98       114\n",
      "   macro avg       0.98      0.98      0.98       114\n",
      "weighted avg       0.98      0.98      0.98       114\n",
      "\n"
     ]
    }
   ],
   "source": [
    "from sklearn.metrics import classification_report\n",
    "# Printing the detailed classification report for the SVM model\n",
    "print(\"\\nSVM - Detailed Classification Report:\")\n",
    "print(classification_report(y_test, y_predict_Support, target_names=data.target_names))"
   ]
  },
  {
   "cell_type": "code",
   "execution_count": 73,
   "id": "796e3d9c-5346-44f1-a9f5-4f9970ccf208",
   "metadata": {},
   "outputs": [
    {
     "name": "stdout",
     "output_type": "stream",
     "text": [
      "\n",
      "Extended Evaluation Metrics (SVM):\n",
      "Macro Precision:0.9813\n",
      "Macro Recall:0.9813\n",
      "Macro F1 Score:0.9813\n",
      "Weighted Precision:0.9825\n",
      "Weighted Recall:0.9825\n",
      "Weighted F1 Score:0.9825\n"
     ]
    }
   ],
   "source": [
    "# Calculating the macro-averaged metrics (treats all classes equally)\n",
    "precision_macro_svm = precision_score(y_test, y_predict_Support, average='macro')\n",
    "recall_macro_svm = recall_score(y_test, y_predict_Support, average='macro')\n",
    "f1_macro_svm = f1_score(y_test, y_predict_Support, average='macro')\n",
    "# Calculating the weighted-averaged metrics (accounts for class distribution)\n",
    "precision_weighted_svm = precision_score(y_test, y_predict_Support, average='weighted')\n",
    "recall_weighted_svm = recall_score(y_test, y_predict_Support, average='weighted')\n",
    "f1_weighted_svm = f1_score(y_test, y_predict_Support, average='weighted')\n",
    "# Displaying the extended evaluation metrics for the SVM model\n",
    "print(\"\\nExtended Evaluation Metrics (SVM):\")\n",
    "print(f\"Macro Precision:{precision_macro_svm:.4f}\")\n",
    "print(f\"Macro Recall:{recall_macro_svm:.4f}\")\n",
    "print(f\"Macro F1 Score:{f1_macro_svm:.4f}\")\n",
    "print(f\"Weighted Precision:{precision_weighted_svm:.4f}\")\n",
    "print(f\"Weighted Recall:{recall_weighted_svm:.4f}\")\n",
    "print(f\"Weighted F1 Score:{f1_weighted_svm:.4f}\")"
   ]
  },
  {
   "cell_type": "code",
   "execution_count": 75,
   "id": "40d02b75-b6e6-47a3-9486-4b06d75bc561",
   "metadata": {},
   "outputs": [
    {
     "data": {
      "image/png": "[encoded data removed]",
      "text/plain": [
       "<Figure size 600x400 with 2 Axes>"
      ]
     },
     "metadata": {},
     "output_type": "display_data"
    }
   ],
   "source": [
    "from sklearn.metrics import confusion_matrix\n",
    "import seaborn as sns\n",
    "import matplotlib.pyplot as plt\n",
    "# Computing the confusion matrix for SVM predictions\n",
    "conf_matrix_svm = confusion_matrix(y_test, y_predict_Support)\n",
    "# Visualizing the confusion matrix using a heatmap\n",
    "plt.figure(figsize=(6, 4))\n",
    "sns.heatmap(\n",
    "    conf_matrix_svm,\n",
    "    annot=True,\n",
    "    fmt='d',\n",
    "    cmap='Blues',\n",
    "    xticklabels=data.target_names,\n",
    "    yticklabels=data.target_names\n",
    ")\n",
    "# Adding axis labels and title\n",
    "plt.xlabel(\"Predicted Class\")\n",
    "plt.ylabel(\"Actual Class\")\n",
    "plt.title(\"SVM - Confusion Matrix\")\n",
    "plt.show()"
   ]
  },
  {
   "cell_type": "markdown",
   "id": "95d9f10e-ffd7-44fe-ae40-ee804886d37a",
   "metadata": {},
   "source": [
    "##### An F1 Macro score of 0.9813 and an F1 Weighted score of 0.9825 indicate strong overall performance across both classes, with a slight advantage given to the majority class due to the weighted averaging."
   ]
  },
  {
   "cell_type": "markdown",
   "id": "b01ed3d2-21e1-4024-b86b-7921a7f1b3b6",
   "metadata": {},
   "source": [
    "### **k-Nearest Neighbors**"
   ]
  },
  {
   "cell_type": "code",
   "execution_count": 79,
   "id": "f35229f8-5a6d-4257-8026-b587b63fccb4",
   "metadata": {},
   "outputs": [],
   "source": [
    "from sklearn.neighbors import KNeighborsClassifier\n",
    "# Initializing the KNN classifier with 5 neighbors\n",
    "knn_classifier = KNeighborsClassifier(n_neighbors=5)\n",
    "# Training the model using the training data\n",
    "knn_classifier.fit(x_train, y_train)\n",
    "# Predicting the labels for the test set\n",
    "y_predict_KNN = knn_classifier.predict(x_test)"
   ]
  },
  {
   "cell_type": "code",
   "execution_count": 80,
   "id": "55064e4f-706a-4f06-b338-8d230b7f436f",
   "metadata": {},
   "outputs": [
    {
     "name": "stdout",
     "output_type": "stream",
     "text": [
      "K-Nearest Neighbors (KNN) - Performance Metrics:\n",
      "Accuracy:0.9737\n",
      "Precision:0.9857\n",
      "Recall:0.9718\n",
      "F1 Score:0.9787\n"
     ]
    }
   ],
   "source": [
    "from sklearn.metrics import accuracy_score, precision_score, recall_score, f1_score\n",
    "# Evaluating basic performance metrics for the KNN model\n",
    "accuracy_knn = accuracy_score(y_test, y_predict_KNN)\n",
    "precision_knn = precision_score(y_test, y_predict_KNN)\n",
    "recall_knn = recall_score(y_test, y_predict_KNN)\n",
    "f1_knn = f1_score(y_test, y_predict_KNN)\n",
    "# Displaying the evaluation results\n",
    "print(\"K-Nearest Neighbors (KNN) - Performance Metrics:\")\n",
    "print(f\"Accuracy:{accuracy_knn:.4f}\")\n",
    "print(f\"Precision:{precision_knn:.4f}\")\n",
    "print(f\"Recall:{recall_knn:.4f}\")\n",
    "print(f\"F1 Score:{f1_knn:.4f}\")"
   ]
  },
  {
   "cell_type": "code",
   "execution_count": 81,
   "id": "50a795f0-5685-4949-ad2a-c0321f3bae2f",
   "metadata": {},
   "outputs": [
    {
     "name": "stdout",
     "output_type": "stream",
     "text": [
      "\n",
      "KNN - Detailed Classification Report:\n",
      "              precision    recall  f1-score   support\n",
      "\n",
      "   malignant       0.95      0.98      0.97        43\n",
      "      benign       0.99      0.97      0.98        71\n",
      "\n",
      "    accuracy                           0.97       114\n",
      "   macro avg       0.97      0.97      0.97       114\n",
      "weighted avg       0.97      0.97      0.97       114\n",
      "\n"
     ]
    }
   ],
   "source": [
    "from sklearn.metrics import classification_report\n",
    "# Display a detailed classification report for the KNN model\n",
    "print(\"\\nKNN - Detailed Classification Report:\")\n",
    "print(classification_report(y_test, y_predict_KNN, target_names=data.target_names))"
   ]
  },
  {
   "cell_type": "code",
   "execution_count": 82,
   "id": "c0b73b73-6a38-4499-a477-3fbac641fa57",
   "metadata": {},
   "outputs": [
    {
     "name": "stdout",
     "output_type": "stream",
     "text": [
      "\n",
      "Extended Metrics (KNN):\n",
      "Precision (Macro):0.9701\n",
      "Recall (Macro):0.9743\n",
      "F1 Score (Macro):0.9721\n",
      "Precision (Weighted):0.9740\n",
      "Recall (Weighted):0.9737\n",
      "F1 Score (Weighted):0.9737\n"
     ]
    }
   ],
   "source": [
    "# Calculating the macro average metrics, which treat all classes equally\n",
    "precision_macro_knn = precision_score(y_test, y_predict_KNN, average='macro')\n",
    "recall_macro_knn = recall_score(y_test, y_predict_KNN, average='macro')\n",
    "f1_macro_knn = f1_score(y_test, y_predict_KNN, average='macro')\n",
    "# Calculating weighted-average metrics, accounting for class imbalance\n",
    "precision_weighted_knn = precision_score(y_test, y_predict_KNN, average='weighted')\n",
    "recall_weighted_knn = recall_score(y_test, y_predict_KNN, average='weighted')\n",
    "f1_weighted_knn = f1_score(y_test, y_predict_KNN, average='weighted')\n",
    "# Displaying the extended performance metrics for the KNN classifier\n",
    "print(\"\\nExtended Metrics (KNN):\")\n",
    "print(f\"Precision (Macro):{precision_macro_knn:.4f}\")\n",
    "print(f\"Recall (Macro):{recall_macro_knn:.4f}\")\n",
    "print(f\"F1 Score (Macro):{f1_macro_knn:.4f}\")\n",
    "print(f\"Precision (Weighted):{precision_weighted_knn:.4f}\")\n",
    "print(f\"Recall (Weighted):{recall_weighted_knn:.4f}\")\n",
    "print(f\"F1 Score (Weighted):{f1_weighted_knn:.4f}\")"
   ]
  },
  {
   "cell_type": "code",
   "execution_count": 83,
   "id": "e3fa3c8a-98a7-4489-a28b-ef6a663c13a3",
   "metadata": {},
   "outputs": [
    {
     "data": {
      "image/png": "[encoded data removed]",
      "text/plain": [
       "<Figure size 600x400 with 2 Axes>"
      ]
     },
     "metadata": {},
     "output_type": "display_data"
    }
   ],
   "source": [
    "from sklearn.metrics import confusion_matrix\n",
    "import seaborn as sns\n",
    "import matplotlib.pyplot as plt\n",
    "# Generate the confusion matrix for KNN predictions\n",
    "conf_matrix_knn = confusion_matrix(y_test, y_predict_KNN)\n",
    "# Plot the confusion matrix as a heatmap\n",
    "plt.figure(figsize=(6, 4))\n",
    "sns.heatmap(\n",
    "    conf_matrix_knn,\n",
    "    annot=True,\n",
    "    fmt='d',\n",
    "    cmap='Purples',\n",
    "    xticklabels=data.target_names,\n",
    "    yticklabels=data.target_names\n",
    ")\n",
    "# Label the axes and set the title\n",
    "plt.xlabel(\"Predicted Class\")\n",
    "plt.ylabel(\"Actual Class\")\n",
    "plt.title(\"Confusion Matrix - KNN\")\n",
    "plt.show()"
   ]
  },
  {
   "cell_type": "markdown",
   "id": "24bc21f6-74c6-4028-9f1b-4c0764c2e54e",
   "metadata": {},
   "source": [
    "##### With an F1 Macro score of 0.9721 and an F1 Weighted score of 0.9737, the model demonstrates strong and consistent performance across both classes.\n",
    "##### The close alignment of precision, recall, and F1 scores indicates a balanced ability to identify both cancerous and non-cancerous cases effectively.\n",
    "##### Although it trails slightly behind leading models such as Logistic Regression and Random Forest, KNN still provides dependable predictions."
   ]
  },
  {
   "cell_type": "markdown",
   "id": "1c18c989-8a8d-4571-a80e-c629e7bb6532",
   "metadata": {},
   "source": [
    "## **Compare models by evaluating their F1 scores using both 'macro' and 'weighted' averages.**"
   ]
  },
  {
   "cell_type": "code",
   "execution_count": 88,
   "id": "04403283-5a51-492e-9031-c7b8600112fe",
   "metadata": {},
   "outputs": [
    {
     "name": "stdout",
     "output_type": "stream",
     "text": [
      "\n",
      "Model Comparison Based on F1 Scores:\n",
      "              Model  F1 Macro  F1 Weighted\n",
      "                SVM  0.981330     0.982456\n",
      "Logistic Regression  0.972120     0.973742\n",
      "                KNN  0.972120     0.973742\n",
      "      Random Forest  0.953106     0.956036\n",
      "      Decision Tree  0.924603     0.929476\n"
     ]
    }
   ],
   "source": [
    "from sklearn.metrics import f1_score\n",
    "import pandas as pd\n",
    "# Calculating F1 scores (macro and weighted) for each model\n",
    "f1_metrics = {\n",
    "    'Model': ['Logistic Regression', 'Decision Tree', 'Random Forest', 'SVM', 'KNN'],\n",
    "    'F1 Macro': [\n",
    "        f1_score(y_test, y_predict_Logic, average='macro'),\n",
    "        f1_score(y_test, y_predict_Decision, average='macro'),\n",
    "        f1_score(y_test, y_predict_Random, average='macro'),\n",
    "        f1_score(y_test, y_predict_Support, average='macro'),\n",
    "        f1_score(y_test, y_predict_KNN, average='macro')\n",
    "    ],\n",
    "    'F1 Weighted': [\n",
    "        f1_score(y_test, y_predict_Logic, average='weighted'),\n",
    "        f1_score(y_test, y_predict_Decision, average='weighted'),\n",
    "        f1_score(y_test, y_predict_Random, average='weighted'),\n",
    "        f1_score(y_test, y_predict_Support, average='weighted'),\n",
    "        f1_score(y_test, y_predict_KNN, average='weighted')\n",
    "    ]\n",
    "}\n",
    "# Creating a DataFrame and sort by weighted F1 score in descending order\n",
    "f1_comparison_df = pd.DataFrame(f1_metrics)\n",
    "f1_comparison_df = f1_comparison_df.sort_values(by='F1 Weighted', ascending=False)\n",
    "# Displaying the comparison results\n",
    "print(\"\\nModel Comparison Based on F1 Scores:\")\n",
    "print(f1_comparison_df.to_string(index=False))"
   ]
  },
  {
   "cell_type": "code",
   "execution_count": 91,
   "id": "ced258ec-977d-4732-8c98-27f4a8aa8926",
   "metadata": {},
   "outputs": [
    {
     "name": "stdout",
     "output_type": "stream",
     "text": [
      "                 Model  F1 Macro  F1 Weighted\n",
      "3                  SVM  0.981330     0.982456\n",
      "0  Logistic Regression  0.972120     0.973742\n",
      "2                  KNN  0.972120     0.973742\n",
      "4        Random Forest  0.953106     0.956036\n",
      "1        Decision Tree  0.924603     0.929476\n"
     ]
    }
   ],
   "source": [
    "import pandas as pd\n",
    "f1_scores = {\n",
    "    'Model': ['Logistic Regression', 'Decision Tree', 'KNN', 'SVM', 'Random Forest'],\n",
    "    'F1 Macro': [ f1_score(y_test, y_predict_Logic, average='macro'), f1_macro, f1_macro_knn, f1_macro_svm, f1_macro_rf],\n",
    "    'F1 Weighted': [f1_score(y_test, y_predict_Logic, average='weighted'), f1_weighted, f1_weighted_knn, f1_weighted_svm, f1_weighted_rf]\n",
    "}\n",
    "f1_df = pd.DataFrame(f1_scores)\n",
    "f1_df_sorted = f1_df.sort_values(by='F1 Weighted', ascending=False)\n",
    "print(f1_df_sorted)"
   ]
  },
  {
   "cell_type": "markdown",
   "id": "cba631e0-0542-4bd5-befc-282ea9eb3912",
   "metadata": {},
   "source": [
    "## **CLASSIFICATION**"
   ]
  },
  {
   "cell_type": "markdown",
   "id": "006ba8d3-dd99-4cd7-9b95-5b5d988ebabc",
   "metadata": {},
   "source": [
    "### **Support Vector Machine (SVM):**\n",
    "##### . SVM emerges as the top-performing model based on both F1 Macro and Weighted scores, indicating strong and balanced performance across classes and good generalization capability.\n",
    "\n",
    "### **Logistic Regression and k-Nearest Neighbors (KNN):**\n",
    "##### . These two models show identical F1 scores, ranking just below SVM. Despite being slightly less effective, they still offer solid and dependable performance, especially useful when model interpretability is not a primary concern.\n",
    "\n",
    "### **Decision Tree:**\n",
    "##### . This model records the lowest F1 scores among the group, making it the least effective in this comparison. It may be more susceptible to overfitting or underfitting depending on the nature and distribution of the dataset."
   ]
  },
  {
   "cell_type": "markdown",
   "id": "08009cbf-2d81-4fd6-846c-b38e6b3fb2d3",
   "metadata": {},
   "source": [
    "<div style=\"text-align: center;\">\n",
    "<strong>END OF THE PROCESS</strong>\n",
    "</div>"
   ]
  }
 ],
 "metadata": {
  "kernelspec": {
   "display_name": "Python 3 (ipykernel)",
   "language": "python",
   "name": "python3"
  },
  "language_info": {
   "codemirror_mode": {
    "name": "ipython",
    "version": 3
   },
   "file_extension": ".py",
   "mimetype": "text/x-python",
   "name": "python",
   "nbconvert_exporter": "python",
   "pygments_lexer": "ipython3",
   "version": "3.13.3"
  }
 },
 "nbformat": 4,
 "nbformat_minor": 5
}
